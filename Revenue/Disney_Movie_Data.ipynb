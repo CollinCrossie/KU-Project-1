{
 "cells": [
  {
   "cell_type": "code",
   "execution_count": 1,
   "metadata": {},
   "outputs": [],
   "source": [
    "import warnings\n",
    "warnings.filterwarnings('ignore')"
   ]
  },
  {
   "cell_type": "code",
   "execution_count": 2,
   "metadata": {},
   "outputs": [],
   "source": [
    "#Modules\n",
    "import pandas as pd\n",
    "import scipy.stats as stats\n",
    "import matplotlib.pyplot as plt\n",
    "import numpy as np\n",
    "import pylab as pl\n",
    "\n",
    "from scipy.stats import norm"
   ]
  },
  {
   "cell_type": "code",
   "execution_count": 3,
   "metadata": {},
   "outputs": [
    {
     "data": {
      "text/html": [
       "<div>\n",
       "<style scoped>\n",
       "    .dataframe tbody tr th:only-of-type {\n",
       "        vertical-align: middle;\n",
       "    }\n",
       "\n",
       "    .dataframe tbody tr th {\n",
       "        vertical-align: top;\n",
       "    }\n",
       "\n",
       "    .dataframe thead th {\n",
       "        text-align: right;\n",
       "    }\n",
       "</style>\n",
       "<table border=\"1\" class=\"dataframe\">\n",
       "  <thead>\n",
       "    <tr style=\"text-align: right;\">\n",
       "      <th></th>\n",
       "      <th>movie_title</th>\n",
       "      <th>release_date</th>\n",
       "      <th>genre</th>\n",
       "      <th>MPAA_rating</th>\n",
       "      <th>total_gross</th>\n",
       "      <th>inflation_adjusted_gross</th>\n",
       "    </tr>\n",
       "  </thead>\n",
       "  <tbody>\n",
       "    <tr>\n",
       "      <th>0</th>\n",
       "      <td>Snow White and the Seven Dwarfs</td>\n",
       "      <td>Dec 21, 1937</td>\n",
       "      <td>Musical</td>\n",
       "      <td>G</td>\n",
       "      <td>$184,925,485</td>\n",
       "      <td>$5,228,953,251</td>\n",
       "    </tr>\n",
       "    <tr>\n",
       "      <th>1</th>\n",
       "      <td>Pinocchio</td>\n",
       "      <td>Feb 9, 1940</td>\n",
       "      <td>Adventure</td>\n",
       "      <td>G</td>\n",
       "      <td>$84,300,000</td>\n",
       "      <td>$2,188,229,052</td>\n",
       "    </tr>\n",
       "    <tr>\n",
       "      <th>2</th>\n",
       "      <td>Fantasia</td>\n",
       "      <td>Nov 13, 1940</td>\n",
       "      <td>Musical</td>\n",
       "      <td>G</td>\n",
       "      <td>$83,320,000</td>\n",
       "      <td>$2,187,090,808</td>\n",
       "    </tr>\n",
       "    <tr>\n",
       "      <th>3</th>\n",
       "      <td>Song of the South</td>\n",
       "      <td>Nov 12, 1946</td>\n",
       "      <td>Adventure</td>\n",
       "      <td>G</td>\n",
       "      <td>$65,000,000</td>\n",
       "      <td>$1,078,510,579</td>\n",
       "    </tr>\n",
       "    <tr>\n",
       "      <th>4</th>\n",
       "      <td>Cinderella</td>\n",
       "      <td>Feb 15, 1950</td>\n",
       "      <td>Drama</td>\n",
       "      <td>G</td>\n",
       "      <td>$85,000,000</td>\n",
       "      <td>$920,608,730</td>\n",
       "    </tr>\n",
       "  </tbody>\n",
       "</table>\n",
       "</div>"
      ],
      "text/plain": [
       "                       movie_title  release_date      genre MPAA_rating  \\\n",
       "0  Snow White and the Seven Dwarfs  Dec 21, 1937    Musical           G   \n",
       "1                        Pinocchio   Feb 9, 1940  Adventure           G   \n",
       "2                         Fantasia  Nov 13, 1940    Musical           G   \n",
       "3                Song of the South  Nov 12, 1946  Adventure           G   \n",
       "4                       Cinderella  Feb 15, 1950      Drama           G   \n",
       "\n",
       "    total_gross inflation_adjusted_gross  \n",
       "0  $184,925,485           $5,228,953,251  \n",
       "1   $84,300,000           $2,188,229,052  \n",
       "2   $83,320,000           $2,187,090,808  \n",
       "3   $65,000,000           $1,078,510,579  \n",
       "4   $85,000,000             $920,608,730  "
      ]
     },
     "execution_count": 3,
     "metadata": {},
     "output_type": "execute_result"
    }
   ],
   "source": [
    "# The path to our CSV file\n",
    "#file = \"..\\Disney_Datasets\\disney_movies_total_gross.csv\"\n",
    "moviedf = pd.read_csv(r\"C:\\Users\\halcm\\Desktop\\KU-Project-1\\Disney_Datasets\\disney_movies_total_gross_2016.csv\",encoding='cp1252')\n",
    "revenuedf = pd.read_csv(r\"C:\\Users\\halcm\\Desktop\\KU-Project-1\\Disney_Datasets\\disney_revenue_1991-2017.csv\", encoding='cp1252')\n",
    "\n",
    "# Read our Kickstarter data into pandas\n",
    "moviedf.head()\n",
    "\n",
    "#If data corrupts, consider writing to new csv file from jupyter"
   ]
  },
  {
   "cell_type": "code",
   "execution_count": 4,
   "metadata": {
    "scrolled": false
   },
   "outputs": [
    {
     "data": {
      "text/html": [
       "<div>\n",
       "<style scoped>\n",
       "    .dataframe tbody tr th:only-of-type {\n",
       "        vertical-align: middle;\n",
       "    }\n",
       "\n",
       "    .dataframe tbody tr th {\n",
       "        vertical-align: top;\n",
       "    }\n",
       "\n",
       "    .dataframe thead th {\n",
       "        text-align: right;\n",
       "    }\n",
       "</style>\n",
       "<table border=\"1\" class=\"dataframe\">\n",
       "  <thead>\n",
       "    <tr style=\"text-align: right;\">\n",
       "      <th></th>\n",
       "      <th>Year</th>\n",
       "      <th>Studio Entertainment[NI 1]</th>\n",
       "      <th>Disney Consumer Products[NI 2]</th>\n",
       "      <th>Disney Interactive[NI 3][Rev 1]</th>\n",
       "      <th>Walt Disney Parks and Resorts</th>\n",
       "      <th>Disney Media Networks</th>\n",
       "      <th>Total</th>\n",
       "    </tr>\n",
       "  </thead>\n",
       "  <tbody>\n",
       "    <tr>\n",
       "      <th>0</th>\n",
       "      <td>1991</td>\n",
       "      <td>2593.0</td>\n",
       "      <td>724.0</td>\n",
       "      <td>NaN</td>\n",
       "      <td>2794.0</td>\n",
       "      <td>NaN</td>\n",
       "      <td>6111</td>\n",
       "    </tr>\n",
       "    <tr>\n",
       "      <th>1</th>\n",
       "      <td>1992</td>\n",
       "      <td>3115.0</td>\n",
       "      <td>1081.0</td>\n",
       "      <td>NaN</td>\n",
       "      <td>3306.0</td>\n",
       "      <td>NaN</td>\n",
       "      <td>7502</td>\n",
       "    </tr>\n",
       "    <tr>\n",
       "      <th>2</th>\n",
       "      <td>1993</td>\n",
       "      <td>3673.4</td>\n",
       "      <td>1415.1</td>\n",
       "      <td>NaN</td>\n",
       "      <td>3440.7</td>\n",
       "      <td>NaN</td>\n",
       "      <td>8529</td>\n",
       "    </tr>\n",
       "    <tr>\n",
       "      <th>3</th>\n",
       "      <td>1994</td>\n",
       "      <td>4793.0</td>\n",
       "      <td>1798.2</td>\n",
       "      <td>NaN</td>\n",
       "      <td>3463.6</td>\n",
       "      <td>359</td>\n",
       "      <td>10414</td>\n",
       "    </tr>\n",
       "    <tr>\n",
       "      <th>4</th>\n",
       "      <td>1995</td>\n",
       "      <td>6001.5</td>\n",
       "      <td>2150.0</td>\n",
       "      <td>NaN</td>\n",
       "      <td>3959.8</td>\n",
       "      <td>414</td>\n",
       "      <td>12525</td>\n",
       "    </tr>\n",
       "  </tbody>\n",
       "</table>\n",
       "</div>"
      ],
      "text/plain": [
       "   Year  Studio Entertainment[NI 1]  Disney Consumer Products[NI 2]  \\\n",
       "0  1991                      2593.0                           724.0   \n",
       "1  1992                      3115.0                          1081.0   \n",
       "2  1993                      3673.4                          1415.1   \n",
       "3  1994                      4793.0                          1798.2   \n",
       "4  1995                      6001.5                          2150.0   \n",
       "\n",
       "   Disney Interactive[NI 3][Rev 1]  Walt Disney Parks and Resorts  \\\n",
       "0                              NaN                         2794.0   \n",
       "1                              NaN                         3306.0   \n",
       "2                              NaN                         3440.7   \n",
       "3                              NaN                         3463.6   \n",
       "4                              NaN                         3959.8   \n",
       "\n",
       "  Disney Media Networks  Total  \n",
       "0                   NaN   6111  \n",
       "1                   NaN   7502  \n",
       "2                   NaN   8529  \n",
       "3                   359  10414  \n",
       "4                   414  12525  "
      ]
     },
     "execution_count": 4,
     "metadata": {},
     "output_type": "execute_result"
    }
   ],
   "source": [
    "revenue_df = pd.read_csv(r\"C:\\Users\\halcm\\Desktop\\KU-Project-1\\Disney_Datasets\\disney_revenue_1991-2017.csv\", encoding='cp1252')\n",
    "revenue_df.head()"
   ]
  },
  {
   "cell_type": "code",
   "execution_count": 5,
   "metadata": {
    "scrolled": true
   },
   "outputs": [
    {
     "data": {
      "text/html": [
       "<div>\n",
       "<style scoped>\n",
       "    .dataframe tbody tr th:only-of-type {\n",
       "        vertical-align: middle;\n",
       "    }\n",
       "\n",
       "    .dataframe tbody tr th {\n",
       "        vertical-align: top;\n",
       "    }\n",
       "\n",
       "    .dataframe thead th {\n",
       "        text-align: right;\n",
       "    }\n",
       "</style>\n",
       "<table border=\"1\" class=\"dataframe\">\n",
       "  <thead>\n",
       "    <tr style=\"text-align: right;\">\n",
       "      <th></th>\n",
       "      <th>Year</th>\n",
       "      <th>Studio Entertainment</th>\n",
       "      <th>Consumer Products</th>\n",
       "      <th>Disney Interactive</th>\n",
       "      <th>Parks and Resorts</th>\n",
       "      <th>Media Networks</th>\n",
       "      <th>Total</th>\n",
       "    </tr>\n",
       "  </thead>\n",
       "  <tbody>\n",
       "    <tr>\n",
       "      <th>0</th>\n",
       "      <td>1991</td>\n",
       "      <td>2593.0</td>\n",
       "      <td>724.0</td>\n",
       "      <td>NaN</td>\n",
       "      <td>2794.0</td>\n",
       "      <td>NaN</td>\n",
       "      <td>6111</td>\n",
       "    </tr>\n",
       "    <tr>\n",
       "      <th>1</th>\n",
       "      <td>1992</td>\n",
       "      <td>3115.0</td>\n",
       "      <td>1081.0</td>\n",
       "      <td>NaN</td>\n",
       "      <td>3306.0</td>\n",
       "      <td>NaN</td>\n",
       "      <td>7502</td>\n",
       "    </tr>\n",
       "    <tr>\n",
       "      <th>2</th>\n",
       "      <td>1993</td>\n",
       "      <td>3673.4</td>\n",
       "      <td>1415.1</td>\n",
       "      <td>NaN</td>\n",
       "      <td>3440.7</td>\n",
       "      <td>NaN</td>\n",
       "      <td>8529</td>\n",
       "    </tr>\n",
       "    <tr>\n",
       "      <th>3</th>\n",
       "      <td>1994</td>\n",
       "      <td>4793.0</td>\n",
       "      <td>1798.2</td>\n",
       "      <td>NaN</td>\n",
       "      <td>3463.6</td>\n",
       "      <td>359</td>\n",
       "      <td>10414</td>\n",
       "    </tr>\n",
       "    <tr>\n",
       "      <th>4</th>\n",
       "      <td>1995</td>\n",
       "      <td>6001.5</td>\n",
       "      <td>2150.0</td>\n",
       "      <td>NaN</td>\n",
       "      <td>3959.8</td>\n",
       "      <td>414</td>\n",
       "      <td>12525</td>\n",
       "    </tr>\n",
       "  </tbody>\n",
       "</table>\n",
       "</div>"
      ],
      "text/plain": [
       "   Year  Studio Entertainment  Consumer Products  Disney Interactive  \\\n",
       "0  1991                2593.0              724.0                 NaN   \n",
       "1  1992                3115.0             1081.0                 NaN   \n",
       "2  1993                3673.4             1415.1                 NaN   \n",
       "3  1994                4793.0             1798.2                 NaN   \n",
       "4  1995                6001.5             2150.0                 NaN   \n",
       "\n",
       "   Parks and Resorts Media Networks  Total  \n",
       "0             2794.0            NaN   6111  \n",
       "1             3306.0            NaN   7502  \n",
       "2             3440.7            NaN   8529  \n",
       "3             3463.6            359  10414  \n",
       "4             3959.8            414  12525  "
      ]
     },
     "execution_count": 5,
     "metadata": {},
     "output_type": "execute_result"
    }
   ],
   "source": [
    "revenue_df=revenue_df.rename(columns = {'Studio Entertainment[NI 1]':'Studio Entertainment', 'Disney Consumer Products[NI 2]':'Consumer Products',\n",
    "                                       'Disney Interactive[NI 3][Rev 1]':'Disney Interactive', 'Walt Disney Parks and Resorts':'Parks and Resorts',\n",
    "                                       'Disney Media Networks':'Media Networks'})\n",
    "revenue_df.head()"
   ]
  },
  {
   "cell_type": "code",
   "execution_count": 25,
   "metadata": {
    "scrolled": true
   },
   "outputs": [
    {
     "data": {
      "text/html": [
       "<div>\n",
       "<style scoped>\n",
       "    .dataframe tbody tr th:only-of-type {\n",
       "        vertical-align: middle;\n",
       "    }\n",
       "\n",
       "    .dataframe tbody tr th {\n",
       "        vertical-align: top;\n",
       "    }\n",
       "\n",
       "    .dataframe thead th {\n",
       "        text-align: right;\n",
       "    }\n",
       "</style>\n",
       "<table border=\"1\" class=\"dataframe\">\n",
       "  <thead>\n",
       "    <tr style=\"text-align: right;\">\n",
       "      <th></th>\n",
       "      <th>Year</th>\n",
       "      <th>Studio Entertainment</th>\n",
       "      <th>Consumer Products</th>\n",
       "      <th>Disney Interactive</th>\n",
       "      <th>Parks and Resorts</th>\n",
       "      <th>Media Networks</th>\n",
       "      <th>Total</th>\n",
       "    </tr>\n",
       "  </thead>\n",
       "  <tbody>\n",
       "    <tr>\n",
       "      <th>0</th>\n",
       "      <td>1991</td>\n",
       "      <td>2,593.0</td>\n",
       "      <td>724.0</td>\n",
       "      <td>0.0</td>\n",
       "      <td>2,794.0</td>\n",
       "      <td>0</td>\n",
       "      <td>6111</td>\n",
       "    </tr>\n",
       "    <tr>\n",
       "      <th>1</th>\n",
       "      <td>1992</td>\n",
       "      <td>3,115.0</td>\n",
       "      <td>1,081.0</td>\n",
       "      <td>0.0</td>\n",
       "      <td>3,306.0</td>\n",
       "      <td>0</td>\n",
       "      <td>7502</td>\n",
       "    </tr>\n",
       "    <tr>\n",
       "      <th>2</th>\n",
       "      <td>1993</td>\n",
       "      <td>3,673.4</td>\n",
       "      <td>1,415.1</td>\n",
       "      <td>0.0</td>\n",
       "      <td>3,440.7</td>\n",
       "      <td>0</td>\n",
       "      <td>8529</td>\n",
       "    </tr>\n",
       "    <tr>\n",
       "      <th>3</th>\n",
       "      <td>1994</td>\n",
       "      <td>4,793.0</td>\n",
       "      <td>1,798.2</td>\n",
       "      <td>0.0</td>\n",
       "      <td>3,463.6</td>\n",
       "      <td>359</td>\n",
       "      <td>10414</td>\n",
       "    </tr>\n",
       "    <tr>\n",
       "      <th>4</th>\n",
       "      <td>1995</td>\n",
       "      <td>6,001.5</td>\n",
       "      <td>2,150.0</td>\n",
       "      <td>0.0</td>\n",
       "      <td>3,959.8</td>\n",
       "      <td>414</td>\n",
       "      <td>12525</td>\n",
       "    </tr>\n",
       "  </tbody>\n",
       "</table>\n",
       "</div>"
      ],
      "text/plain": [
       "   Year  Studio Entertainment  Consumer Products  Disney Interactive  \\\n",
       "0  1991               2,593.0              724.0                 0.0   \n",
       "1  1992               3,115.0            1,081.0                 0.0   \n",
       "2  1993               3,673.4            1,415.1                 0.0   \n",
       "3  1994               4,793.0            1,798.2                 0.0   \n",
       "4  1995               6,001.5            2,150.0                 0.0   \n",
       "\n",
       "   Parks and Resorts Media Networks  Total  \n",
       "0            2,794.0              0   6111  \n",
       "1            3,306.0              0   7502  \n",
       "2            3,440.7              0   8529  \n",
       "3            3,463.6            359  10414  \n",
       "4            3,959.8            414  12525  "
      ]
     },
     "execution_count": 25,
     "metadata": {},
     "output_type": "execute_result"
    }
   ],
   "source": [
    "revenue_df = revenue_df.replace(np.nan, 0)\n",
    "revenue_df = revenue_df.replace({\"4,142\": \"4142\"})\n",
    "pd.to_numeric(revenue_df['Media Networks'])\n",
    "pd.options.display.float_format = '{:,.1f}'.format\n",
    "revenue_df.head()"
   ]
  },
  {
   "cell_type": "code",
   "execution_count": 7,
   "metadata": {},
   "outputs": [
    {
     "data": {
      "image/png": "[encoded data removed]",
      "text/plain": [
       "<Figure size 1152x720 with 1 Axes>"
      ]
     },
     "metadata": {},
     "output_type": "display_data"
    }
   ],
   "source": [
    "revenue_df.loc[:,['Studio Entertainment', 'Consumer Products', 'Disney Interactive', 'Parks and Resorts', 'Media Networks']].plot.bar(stacked=True, figsize=(16,10))\n",
    "\n",
    "plt.xticks(np.arange(27), ('1991', '1992', '1993', '1994', '1995', '1996', '1997', '1998', '1999', \n",
    "                       '2000', '2001', '2002', '2003', '2004', '2005', '2006', '2007', '2008', \n",
    "                       '2009', '2010', '2011', '2012', '2013', '2014', '2015', '2016', '2017'), rotation=20)\n",
    "\n",
    "\n",
    "\n",
    "# Give our chart some labels and a tile\n",
    "plt.title(\"Disney Total Revenue by Year\",fontsize=20)\n",
    "plt.xlabel(\"Year\",fontsize=15)\n",
    "plt.ylabel(\"Revenue in USD (MM)\",fontsize=15)\n",
    "plt.ylim([0, 65000])\n",
    "\n",
    "plt.savefig('TotalRevenue.pdf')"
   ]
  },
  {
   "cell_type": "code",
   "execution_count": 8,
   "metadata": {
    "scrolled": true
   },
   "outputs": [
    {
     "data": {
      "text/html": [
       "<div>\n",
       "<style scoped>\n",
       "    .dataframe tbody tr th:only-of-type {\n",
       "        vertical-align: middle;\n",
       "    }\n",
       "\n",
       "    .dataframe tbody tr th {\n",
       "        vertical-align: top;\n",
       "    }\n",
       "\n",
       "    .dataframe thead th {\n",
       "        text-align: right;\n",
       "    }\n",
       "</style>\n",
       "<table border=\"1\" class=\"dataframe\">\n",
       "  <thead>\n",
       "    <tr style=\"text-align: right;\">\n",
       "      <th></th>\n",
       "      <th>Year</th>\n",
       "      <th>Total</th>\n",
       "    </tr>\n",
       "  </thead>\n",
       "  <tbody>\n",
       "    <tr>\n",
       "      <th>0</th>\n",
       "      <td>1991</td>\n",
       "      <td>6111</td>\n",
       "    </tr>\n",
       "    <tr>\n",
       "      <th>1</th>\n",
       "      <td>1992</td>\n",
       "      <td>7502</td>\n",
       "    </tr>\n",
       "    <tr>\n",
       "      <th>2</th>\n",
       "      <td>1993</td>\n",
       "      <td>8529</td>\n",
       "    </tr>\n",
       "    <tr>\n",
       "      <th>3</th>\n",
       "      <td>1994</td>\n",
       "      <td>10414</td>\n",
       "    </tr>\n",
       "    <tr>\n",
       "      <th>4</th>\n",
       "      <td>1995</td>\n",
       "      <td>12525</td>\n",
       "    </tr>\n",
       "  </tbody>\n",
       "</table>\n",
       "</div>"
      ],
      "text/plain": [
       "   Year  Total\n",
       "0  1991   6111\n",
       "1  1992   7502\n",
       "2  1993   8529\n",
       "3  1994  10414\n",
       "4  1995  12525"
      ]
     },
     "execution_count": 8,
     "metadata": {},
     "output_type": "execute_result"
    }
   ],
   "source": [
    "# Extract \"Year\", \"Total\"\n",
    "reduced_rev_df = revenue_df.loc[:, [\"Year\", \"Total\"]]\n",
    "reduced_rev_df.head()"
   ]
  },
  {
   "cell_type": "code",
   "execution_count": 9,
   "metadata": {},
   "outputs": [
    {
     "data": {
      "text/html": [
       "<div>\n",
       "<style scoped>\n",
       "    .dataframe tbody tr th:only-of-type {\n",
       "        vertical-align: middle;\n",
       "    }\n",
       "\n",
       "    .dataframe tbody tr th {\n",
       "        vertical-align: top;\n",
       "    }\n",
       "\n",
       "    .dataframe thead th {\n",
       "        text-align: right;\n",
       "    }\n",
       "</style>\n",
       "<table border=\"1\" class=\"dataframe\">\n",
       "  <thead>\n",
       "    <tr style=\"text-align: right;\">\n",
       "      <th></th>\n",
       "      <th>Year</th>\n",
       "      <th>Total</th>\n",
       "      <th>Diff</th>\n",
       "    </tr>\n",
       "  </thead>\n",
       "  <tbody>\n",
       "    <tr>\n",
       "      <th>0</th>\n",
       "      <td>1991</td>\n",
       "      <td>6111</td>\n",
       "      <td>nan</td>\n",
       "    </tr>\n",
       "    <tr>\n",
       "      <th>1</th>\n",
       "      <td>1992</td>\n",
       "      <td>7502</td>\n",
       "      <td>1,391.0</td>\n",
       "    </tr>\n",
       "    <tr>\n",
       "      <th>2</th>\n",
       "      <td>1993</td>\n",
       "      <td>8529</td>\n",
       "      <td>1,027.0</td>\n",
       "    </tr>\n",
       "    <tr>\n",
       "      <th>3</th>\n",
       "      <td>1994</td>\n",
       "      <td>10414</td>\n",
       "      <td>1,885.0</td>\n",
       "    </tr>\n",
       "    <tr>\n",
       "      <th>4</th>\n",
       "      <td>1995</td>\n",
       "      <td>12525</td>\n",
       "      <td>2,111.0</td>\n",
       "    </tr>\n",
       "  </tbody>\n",
       "</table>\n",
       "</div>"
      ],
      "text/plain": [
       "   Year  Total    Diff\n",
       "0  1991   6111     nan\n",
       "1  1992   7502 1,391.0\n",
       "2  1993   8529 1,027.0\n",
       "3  1994  10414 1,885.0\n",
       "4  1995  12525 2,111.0"
      ]
     },
     "execution_count": 9,
     "metadata": {},
     "output_type": "execute_result"
    }
   ],
   "source": [
    "reduced_rev_df['Diff'] = reduced_rev_df['Total'] - reduced_rev_df['Total'].shift(1)\n",
    "reduced_rev_df.head()"
   ]
  },
  {
   "cell_type": "code",
   "execution_count": 10,
   "metadata": {
    "scrolled": true
   },
   "outputs": [
    {
     "data": {
      "text/html": [
       "<div>\n",
       "<style scoped>\n",
       "    .dataframe tbody tr th:only-of-type {\n",
       "        vertical-align: middle;\n",
       "    }\n",
       "\n",
       "    .dataframe tbody tr th {\n",
       "        vertical-align: top;\n",
       "    }\n",
       "\n",
       "    .dataframe thead th {\n",
       "        text-align: right;\n",
       "    }\n",
       "</style>\n",
       "<table border=\"1\" class=\"dataframe\">\n",
       "  <thead>\n",
       "    <tr style=\"text-align: right;\">\n",
       "      <th></th>\n",
       "      <th>Year</th>\n",
       "      <th>Total</th>\n",
       "      <th>Diff</th>\n",
       "    </tr>\n",
       "  </thead>\n",
       "  <tbody>\n",
       "    <tr>\n",
       "      <th>count</th>\n",
       "      <td>27.0</td>\n",
       "      <td>27.0</td>\n",
       "      <td>26.0</td>\n",
       "    </tr>\n",
       "    <tr>\n",
       "      <th>mean</th>\n",
       "      <td>2,004.0</td>\n",
       "      <td>30,410.7</td>\n",
       "      <td>1,885.6</td>\n",
       "    </tr>\n",
       "    <tr>\n",
       "      <th>std</th>\n",
       "      <td>7.9</td>\n",
       "      <td>14,449.1</td>\n",
       "      <td>1,651.4</td>\n",
       "    </tr>\n",
       "    <tr>\n",
       "      <th>min</th>\n",
       "      <td>1,991.0</td>\n",
       "      <td>6,111.0</td>\n",
       "      <td>-1,694.0</td>\n",
       "    </tr>\n",
       "    <tr>\n",
       "      <th>25%</th>\n",
       "      <td>1,997.5</td>\n",
       "      <td>22,724.5</td>\n",
       "      <td>1,068.2</td>\n",
       "    </tr>\n",
       "    <tr>\n",
       "      <th>50%</th>\n",
       "      <td>2,004.0</td>\n",
       "      <td>30,752.0</td>\n",
       "      <td>1,899.5</td>\n",
       "    </tr>\n",
       "    <tr>\n",
       "      <th>75%</th>\n",
       "      <td>2,010.5</td>\n",
       "      <td>39,478.0</td>\n",
       "      <td>2,813.2</td>\n",
       "    </tr>\n",
       "    <tr>\n",
       "      <th>max</th>\n",
       "      <td>2,017.0</td>\n",
       "      <td>55,632.0</td>\n",
       "      <td>6,214.0</td>\n",
       "    </tr>\n",
       "  </tbody>\n",
       "</table>\n",
       "</div>"
      ],
      "text/plain": [
       "         Year    Total     Diff\n",
       "count    27.0     27.0     26.0\n",
       "mean  2,004.0 30,410.7  1,885.6\n",
       "std       7.9 14,449.1  1,651.4\n",
       "min   1,991.0  6,111.0 -1,694.0\n",
       "25%   1,997.5 22,724.5  1,068.2\n",
       "50%   2,004.0 30,752.0  1,899.5\n",
       "75%   2,010.5 39,478.0  2,813.2\n",
       "max   2,017.0 55,632.0  6,214.0"
      ]
     },
     "execution_count": 10,
     "metadata": {},
     "output_type": "execute_result"
    }
   ],
   "source": [
    "reduced_rev_df.describe()"
   ]
  },
  {
   "cell_type": "code",
   "execution_count": 11,
   "metadata": {},
   "outputs": [
    {
     "data": {
      "text/plain": [
       "30410.703703703704"
      ]
     },
     "execution_count": 11,
     "metadata": {},
     "output_type": "execute_result"
    }
   ],
   "source": [
    "# Calculate the average total revenue for all years\n",
    "reduced_rev_df[\"Total\"].mean()"
   ]
  },
  {
   "cell_type": "code",
   "execution_count": 12,
   "metadata": {},
   "outputs": [],
   "source": [
    "# Create an array that contains the revenue for the year before, year of, and year after the acquisition\n",
    "revenue1 = [36149000.00, 38063000.00, 40893000.00]\n",
    "x_axis = np.arange(len(revenue1))"
   ]
  },
  {
   "cell_type": "code",
   "execution_count": 13,
   "metadata": {
    "scrolled": true
   },
   "outputs": [
    {
     "data": {
      "image/png": "[encoded data removed]",
      "text/plain": [
       "<Figure size 432x288 with 1 Axes>"
      ]
     },
     "metadata": {},
     "output_type": "display_data"
    }
   ],
   "source": [
    "plt.bar(x_axis, revenue1, color='r', alpha=0.5, align=\"center\")\n",
    "\n",
    "# Tell matplotlib where we would like to place each of our x axis headers\n",
    "tick_locations = [value for value in x_axis]\n",
    "plt.xticks(tick_locations, [\"2009\", \"2010\", \"2011\"])\n",
    "plt.ylim([0.0, 45000000.00])\n",
    "\n",
    "# Give our chart some labels and a tile\n",
    "plt.title(\"Revenue Comparison +/- 1 year of Marvel Acquisition (2010)\",fontsize=16)\n",
    "plt.xlabel(\"Year\",fontsize=15)\n",
    "plt.ylabel(\"Revenue in USD (MM)\",fontsize=15)\n",
    "\n",
    "plt.savefig('Marvel.pdf')"
   ]
  },
  {
   "cell_type": "code",
   "execution_count": 14,
   "metadata": {},
   "outputs": [],
   "source": [
    "# Create an array that contains the revenue for the year before, year of, and year after the acquisition\n",
    "revenue2 = [42278000.00, 45041000.00, 48813000.00]\n",
    "x_axis = np.arange(len(revenue2))"
   ]
  },
  {
   "cell_type": "code",
   "execution_count": 15,
   "metadata": {},
   "outputs": [
    {
     "data": {
      "image/png": "[encoded data removed]",
      "text/plain": [
       "<Figure size 432x288 with 1 Axes>"
      ]
     },
     "metadata": {},
     "output_type": "display_data"
    }
   ],
   "source": [
    "plt.bar(x_axis, revenue2, color='b', alpha=0.5, align=\"center\")\n",
    "\n",
    "# Tell matplotlib where we would like to place each of our x axis headers\n",
    "tick_locations = [value for value in x_axis]\n",
    "plt.xticks(tick_locations, [\"2012\", \"2013\", \"2014\"])\n",
    "plt.ylim([0.0, 60000000.00])\n",
    "\n",
    "# Give our chart some labels and a tile\n",
    "plt.title(\"Revenue Comparison +/- 1 year of LucasFilm Acquisition (2013)\",fontsize=16)\n",
    "plt.xlabel(\"Year\",fontsize=15)\n",
    "plt.ylabel(\"Revenue in USD (MM)\", fontsize=15)\n",
    "\n",
    "plt.savefig('LucasFilm.pdf')"
   ]
  },
  {
   "cell_type": "code",
   "execution_count": 16,
   "metadata": {},
   "outputs": [
    {
     "data": {
      "text/plain": [
       "1651.391245633162"
      ]
     },
     "execution_count": 16,
     "metadata": {},
     "output_type": "execute_result"
    }
   ],
   "source": [
    "stdev = reduced_rev_df[\"Diff\"].std()\n",
    "stdev"
   ]
  },
  {
   "cell_type": "code",
   "execution_count": 17,
   "metadata": {},
   "outputs": [
    {
     "data": {
      "text/plain": [
       "1885.6153846153845"
      ]
     },
     "execution_count": 17,
     "metadata": {},
     "output_type": "execute_result"
    }
   ],
   "source": [
    "mean = np.mean(reduced_rev_df[\"Diff\"])\n",
    "mean"
   ]
  },
  {
   "cell_type": "code",
   "execution_count": 18,
   "metadata": {},
   "outputs": [],
   "source": [
    "reduced_rev_df[\"Z Score\"] = (reduced_rev_df[\"Diff\"] - mean) / stdev"
   ]
  },
  {
   "cell_type": "code",
   "execution_count": 19,
   "metadata": {},
   "outputs": [],
   "source": [
    "z_scores = [(y - mean) / stdev for y in reduced_rev_df[\"Diff\"]]"
   ]
  },
  {
   "cell_type": "code",
   "execution_count": 20,
   "metadata": {},
   "outputs": [
    {
     "data": {
      "text/html": [
       "<div>\n",
       "<style scoped>\n",
       "    .dataframe tbody tr th:only-of-type {\n",
       "        vertical-align: middle;\n",
       "    }\n",
       "\n",
       "    .dataframe tbody tr th {\n",
       "        vertical-align: top;\n",
       "    }\n",
       "\n",
       "    .dataframe thead th {\n",
       "        text-align: right;\n",
       "    }\n",
       "</style>\n",
       "<table border=\"1\" class=\"dataframe\">\n",
       "  <thead>\n",
       "    <tr style=\"text-align: right;\">\n",
       "      <th></th>\n",
       "      <th>Year</th>\n",
       "      <th>Total</th>\n",
       "      <th>Diff</th>\n",
       "      <th>Z Score</th>\n",
       "    </tr>\n",
       "  </thead>\n",
       "  <tbody>\n",
       "    <tr>\n",
       "      <th>0</th>\n",
       "      <td>1991</td>\n",
       "      <td>6111</td>\n",
       "      <td>nan</td>\n",
       "      <td>nan</td>\n",
       "    </tr>\n",
       "    <tr>\n",
       "      <th>1</th>\n",
       "      <td>1992</td>\n",
       "      <td>7502</td>\n",
       "      <td>1,391.0</td>\n",
       "      <td>-0.3</td>\n",
       "    </tr>\n",
       "    <tr>\n",
       "      <th>2</th>\n",
       "      <td>1993</td>\n",
       "      <td>8529</td>\n",
       "      <td>1,027.0</td>\n",
       "      <td>-0.5</td>\n",
       "    </tr>\n",
       "    <tr>\n",
       "      <th>3</th>\n",
       "      <td>1994</td>\n",
       "      <td>10414</td>\n",
       "      <td>1,885.0</td>\n",
       "      <td>-0.0</td>\n",
       "    </tr>\n",
       "    <tr>\n",
       "      <th>4</th>\n",
       "      <td>1995</td>\n",
       "      <td>12525</td>\n",
       "      <td>2,111.0</td>\n",
       "      <td>0.1</td>\n",
       "    </tr>\n",
       "  </tbody>\n",
       "</table>\n",
       "</div>"
      ],
      "text/plain": [
       "   Year  Total    Diff  Z Score\n",
       "0  1991   6111     nan      nan\n",
       "1  1992   7502 1,391.0     -0.3\n",
       "2  1993   8529 1,027.0     -0.5\n",
       "3  1994  10414 1,885.0     -0.0\n",
       "4  1995  12525 2,111.0      0.1"
      ]
     },
     "execution_count": 20,
     "metadata": {},
     "output_type": "execute_result"
    }
   ],
   "source": [
    "reduced_rev_df.head()"
   ]
  },
  {
   "cell_type": "code",
   "execution_count": 21,
   "metadata": {},
   "outputs": [
    {
     "data": {
      "text/plain": [
       "(array([ 5,  6, 11, 13, 18, 23, 24, 26], dtype=int64),)"
      ]
     },
     "execution_count": 21,
     "metadata": {},
     "output_type": "execute_result"
    }
   ],
   "source": [
    "np.where(np.abs(reduced_rev_df[\"Z Score\"])> 1)"
   ]
  },
  {
   "cell_type": "code",
   "execution_count": 22,
   "metadata": {},
   "outputs": [],
   "source": [
    "#Z Score indicates how far away a data point is from the mean.  \n",
    "#The higher the score, the farther away the data point is from the average.\n",
    "#A score of 1 indicates the data point is one standard deviation away from the mean."
   ]
  },
  {
   "cell_type": "code",
   "execution_count": 23,
   "metadata": {},
   "outputs": [
    {
     "data": {
      "image/png": "[encoded data removed]",
      "text/plain": [
       "<Figure size 432x288 with 1 Axes>"
      ]
     },
     "metadata": {},
     "output_type": "display_data"
    }
   ],
   "source": [
    "reduced_rev_df.hist(column='Diff', normed=True)\n",
    "\n",
    "x = np.linspace(-2000,6500,100)\n",
    "y = norm.pdf(x, loc=mean, scale=stdev)   \n",
    "pl.plot(x,y, linewidth=2.0)\n",
    "\n",
    "plt.title(\"Histogram of Disney Revenue 1991 - 2017\", fontsize=18)\n",
    "plt.xlabel(\"Revenue in USD (MM)\",fontsize=15)\n",
    "#plt.ylabel(\"Frequency\",fontsize=15)\n",
    "\n",
    "plt.savefig('Histogram.pdf')"
   ]
  },
  {
   "cell_type": "code",
   "execution_count": 24,
   "metadata": {},
   "outputs": [
    {
     "data": {
      "text/html": [
       "<div>\n",
       "<style scoped>\n",
       "    .dataframe tbody tr th:only-of-type {\n",
       "        vertical-align: middle;\n",
       "    }\n",
       "\n",
       "    .dataframe tbody tr th {\n",
       "        vertical-align: top;\n",
       "    }\n",
       "\n",
       "    .dataframe thead th {\n",
       "        text-align: right;\n",
       "    }\n",
       "</style>\n",
       "<table border=\"1\" class=\"dataframe\">\n",
       "  <thead>\n",
       "    <tr style=\"text-align: right;\">\n",
       "      <th></th>\n",
       "      <th>Year</th>\n",
       "      <th>Total</th>\n",
       "      <th>Diff</th>\n",
       "      <th>Z Score</th>\n",
       "    </tr>\n",
       "  </thead>\n",
       "  <tbody>\n",
       "    <tr>\n",
       "      <th>5</th>\n",
       "      <td>1996</td>\n",
       "      <td>18739</td>\n",
       "      <td>6,214.0</td>\n",
       "      <td>2.6</td>\n",
       "    </tr>\n",
       "    <tr>\n",
       "      <th>6</th>\n",
       "      <td>1997</td>\n",
       "      <td>22473</td>\n",
       "      <td>3,734.0</td>\n",
       "      <td>1.1</td>\n",
       "    </tr>\n",
       "    <tr>\n",
       "      <th>11</th>\n",
       "      <td>2002</td>\n",
       "      <td>25360</td>\n",
       "      <td>-430.0</td>\n",
       "      <td>-1.4</td>\n",
       "    </tr>\n",
       "    <tr>\n",
       "      <th>13</th>\n",
       "      <td>2004</td>\n",
       "      <td>30752</td>\n",
       "      <td>3,691.0</td>\n",
       "      <td>1.1</td>\n",
       "    </tr>\n",
       "    <tr>\n",
       "      <th>18</th>\n",
       "      <td>2009</td>\n",
       "      <td>36149</td>\n",
       "      <td>-1,694.0</td>\n",
       "      <td>-2.2</td>\n",
       "    </tr>\n",
       "    <tr>\n",
       "      <th>23</th>\n",
       "      <td>2014</td>\n",
       "      <td>48813</td>\n",
       "      <td>3,772.0</td>\n",
       "      <td>1.1</td>\n",
       "    </tr>\n",
       "    <tr>\n",
       "      <th>24</th>\n",
       "      <td>2015</td>\n",
       "      <td>52465</td>\n",
       "      <td>3,652.0</td>\n",
       "      <td>1.1</td>\n",
       "    </tr>\n",
       "    <tr>\n",
       "      <th>26</th>\n",
       "      <td>2017</td>\n",
       "      <td>55137</td>\n",
       "      <td>-495.0</td>\n",
       "      <td>-1.4</td>\n",
       "    </tr>\n",
       "  </tbody>\n",
       "</table>\n",
       "</div>"
      ],
      "text/plain": [
       "    Year  Total     Diff  Z Score\n",
       "5   1996  18739  6,214.0      2.6\n",
       "6   1997  22473  3,734.0      1.1\n",
       "11  2002  25360   -430.0     -1.4\n",
       "13  2004  30752  3,691.0      1.1\n",
       "18  2009  36149 -1,694.0     -2.2\n",
       "23  2014  48813  3,772.0      1.1\n",
       "24  2015  52465  3,652.0      1.1\n",
       "26  2017  55137   -495.0     -1.4"
      ]
     },
     "execution_count": 24,
     "metadata": {},
     "output_type": "execute_result"
    }
   ],
   "source": [
    "reduced_rev_df[np.abs(reduced_rev_df[\"Z Score\"])>1]"
   ]
  },
  {
   "cell_type": "code",
   "execution_count": null,
   "metadata": {},
   "outputs": [],
   "source": []
  }
 ],
 "metadata": {
  "kernelspec": {
   "display_name": "Python 3",
   "language": "python",
   "name": "python3"
  },
  "language_info": {
   "codemirror_mode": {
    "name": "ipython",
    "version": 3
   },
   "file_extension": ".py",
   "mimetype": "text/x-python",
   "name": "python",
   "nbconvert_exporter": "python",
   "pygments_lexer": "ipython3",
   "version": "3.6.5"
  }
 },
 "nbformat": 4,
 "nbformat_minor": 2
}
